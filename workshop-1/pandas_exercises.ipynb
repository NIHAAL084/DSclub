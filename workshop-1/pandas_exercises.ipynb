{
 "cells": [
  {
   "cell_type": "markdown",
   "metadata": {
    "id": "1qwyd2qRB23Y"
   },
   "source": [
    "# Pandas Practice\n",
    "\n",
    "This notebook is dedicated to practicing different tasks with pandas. The solutions are available in a solutions notebook, however, you should always try to figure them out yourself first.\n",
    "\n",
    "It should be noted there may be more than one different way to answer a question or complete an exercise.\n",
    "\n",
    "Different tasks will be detailed by comments or text.\n",
    "\n",
    "For further reference and resources, it's advised to check out the [pandas documentation](https://pandas.pydata.org/pandas-docs/stable/).\n",
    "\n",
    "Prepared by:\n",
    "K Nanditha\n",
    "(DSC Research Head)"
   ]
  },
  {
   "cell_type": "code",
   "execution_count": 96,
   "metadata": {
    "id": "gpV1JnhfB23b",
    "ExecuteTime": {
     "end_time": "2023-06-21T09:58:39.660464100Z",
     "start_time": "2023-06-21T09:58:39.578635100Z"
    }
   },
   "outputs": [],
   "source": [
    "# Import pandas\n",
    "import pandas as pd"
   ]
  },
  {
   "cell_type": "code",
   "execution_count": 97,
   "metadata": {
    "id": "I0DRwuxAB23c",
    "ExecuteTime": {
     "end_time": "2023-06-21T09:58:39.818483500Z",
     "start_time": "2023-06-21T09:58:39.587845200Z"
    }
   },
   "outputs": [],
   "source": [
    "# Create a series of three different colours\n",
    "colours = pd.Series(['red', 'green', 'blue'])\n"
   ]
  },
  {
   "cell_type": "code",
   "execution_count": 98,
   "metadata": {
    "id": "rDI_Qah0B23d",
    "ExecuteTime": {
     "end_time": "2023-06-21T09:58:39.821433900Z",
     "start_time": "2023-06-21T09:58:39.618184Z"
    }
   },
   "outputs": [
    {
     "name": "stdout",
     "output_type": "stream",
     "text": [
      "0      red\n",
      "1    green\n",
      "2     blue\n",
      "dtype: object\n"
     ]
    }
   ],
   "source": [
    "# View the series of different colours\n",
    "print(colours)\n"
   ]
  },
  {
   "cell_type": "code",
   "execution_count": 99,
   "metadata": {
    "id": "GVRD4q9yB23d",
    "ExecuteTime": {
     "end_time": "2023-06-21T09:58:39.830063300Z",
     "start_time": "2023-06-21T09:58:39.632711800Z"
    }
   },
   "outputs": [
    {
     "name": "stdout",
     "output_type": "stream",
     "text": [
      "0     bungalow\n",
      "1    apartment\n",
      "2       duplex\n",
      "dtype: object\n"
     ]
    }
   ],
   "source": [
    "# Create a series of three different house types and view it\n",
    "house_types = pd.Series(['bungalow', 'apartment', 'duplex'])\n",
    "print(house_types)"
   ]
  },
  {
   "cell_type": "code",
   "execution_count": 100,
   "metadata": {
    "id": "sEQ3gxGtB23d",
    "ExecuteTime": {
     "end_time": "2023-06-21T09:58:39.831062800Z",
     "start_time": "2023-06-21T09:58:39.652463600Z"
    }
   },
   "outputs": [
    {
     "name": "stdout",
     "output_type": "stream",
     "text": [
      "  House Type Colour\n",
      "0   bungalow    red\n",
      "1  apartment  green\n",
      "2     duplex   blue\n"
     ]
    }
   ],
   "source": [
    "# Combine the Series of house and colours into a DataFrame\n",
    "df = pd.DataFrame({'House Type': house_types, 'Colour': colours})\n",
    "print(df)"
   ]
  },
  {
   "cell_type": "code",
   "execution_count": 101,
   "metadata": {
    "id": "WAaghxC-B23d",
    "ExecuteTime": {
     "end_time": "2023-06-21T09:58:39.832063Z",
     "start_time": "2023-06-21T09:58:39.665464400Z"
    }
   },
   "outputs": [],
   "source": [
    "# Import \"../house-sales.csv\" and turn it into a DataFrame\n",
    "df = pd.read_csv(\"C:\\\\Users\\\\nihaa\\\\Documents\\\\GitHub\\\\DS\\\\workshop-1\\\\house-sales.csv\")\n"
   ]
  },
  {
   "cell_type": "markdown",
   "metadata": {
    "id": "p1yX0unfB23d"
   },
   "source": [
    "**Note:** Since you've imported `./house-sales.csv` as a DataFrame, we'll now refer to this DataFrame as 'the house sales DataFrame'."
   ]
  },
  {
   "cell_type": "code",
   "execution_count": 102,
   "metadata": {
    "id": "kI_ZtcqAB23e",
    "ExecuteTime": {
     "end_time": "2023-06-21T09:58:39.832063Z",
     "start_time": "2023-06-21T09:58:39.681464800Z"
    }
   },
   "outputs": [],
   "source": [
    "# Export the DataFrame you created to a .csv file\n",
    "df.to_csv(\"output.csv\", index=False)"
   ]
  },
  {
   "cell_type": "code",
   "execution_count": 103,
   "metadata": {
    "id": "EJpkRJAKB23e",
    "ExecuteTime": {
     "end_time": "2023-06-21T09:58:39.832063Z",
     "start_time": "2023-06-21T09:58:39.697464Z"
    }
   },
   "outputs": [
    {
     "name": "stdout",
     "output_type": "stream",
     "text": [
      "Type of house      object\n",
      "Colour             object\n",
      "Area (sqft)         int64\n",
      "Number of doors     int64\n",
      "Price              object\n",
      "dtype: object\n"
     ]
    }
   ],
   "source": [
    "# Find the different datatypes of the house data DataFrame\n",
    "print(df.dtypes)\n"
   ]
  },
  {
   "cell_type": "code",
   "execution_count": 104,
   "metadata": {
    "id": "xdTAboGQB23e",
    "ExecuteTime": {
     "end_time": "2023-06-21T09:58:39.833244Z",
     "start_time": "2023-06-21T09:58:39.714751200Z"
    }
   },
   "outputs": [
    {
     "name": "stdout",
     "output_type": "stream",
     "text": [
      "       Area (sqft)  Number of doors\n",
      "count    10.000000        10.000000\n",
      "mean   1224.600000         2.200000\n",
      "std     652.620223         1.135292\n",
      "min     502.000000         1.000000\n",
      "25%     687.500000         1.250000\n",
      "50%    1157.500000         2.000000\n",
      "75%    1431.250000         2.750000\n",
      "max    2504.000000         4.000000\n"
     ]
    }
   ],
   "source": [
    "# Describe your current house sales DataFrame using describe()\n",
    "print(df.describe())"
   ]
  },
  {
   "cell_type": "code",
   "execution_count": 105,
   "metadata": {
    "id": "JCSI_66mB23e",
    "ExecuteTime": {
     "end_time": "2023-06-21T09:58:39.833244Z",
     "start_time": "2023-06-21T09:58:39.731261700Z"
    }
   },
   "outputs": [
    {
     "name": "stdout",
     "output_type": "stream",
     "text": [
      "<class 'pandas.core.frame.DataFrame'>\n",
      "RangeIndex: 10 entries, 0 to 9\n",
      "Data columns (total 5 columns):\n",
      " #   Column           Non-Null Count  Dtype \n",
      "---  ------           --------------  ----- \n",
      " 0   Type of house    10 non-null     object\n",
      " 1   Colour           10 non-null     object\n",
      " 2   Area (sqft)      10 non-null     int64 \n",
      " 3   Number of doors  10 non-null     int64 \n",
      " 4   Price            10 non-null     object\n",
      "dtypes: int64(2), object(3)\n",
      "memory usage: 528.0+ bytes\n",
      "None\n"
     ]
    }
   ],
   "source": [
    "# Get information about your DataFrame using info()\n",
    "print(df.info())"
   ]
  },
  {
   "cell_type": "markdown",
   "metadata": {
    "id": "04Bp0u-BB23f"
   },
   "source": [
    "What does it show you?"
   ]
  },
  {
   "cell_type": "code",
   "execution_count": 106,
   "metadata": {
    "id": "bTwVB_24B23f",
    "ExecuteTime": {
     "end_time": "2023-06-21T09:58:39.833244Z",
     "start_time": "2023-06-21T09:58:39.745445300Z"
    }
   },
   "outputs": [
    {
     "name": "stdout",
     "output_type": "stream",
     "text": [
      "32.2\n"
     ]
    }
   ],
   "source": [
    "# Create a Series of different numbers and find the mean of them\n",
    "numbers = pd.Series([13, 17, 23, 37, 71])\n",
    "mean = numbers.mean()\n",
    "print(mean)\n"
   ]
  },
  {
   "cell_type": "code",
   "execution_count": 107,
   "metadata": {
    "id": "juIsZ2QPB23f",
    "ExecuteTime": {
     "end_time": "2023-06-21T09:58:39.834252700Z",
     "start_time": "2023-06-21T09:58:39.761444300Z"
    }
   },
   "outputs": [
    {
     "name": "stdout",
     "output_type": "stream",
     "text": [
      "161\n"
     ]
    }
   ],
   "source": [
    "# Create a Series of different numbers and find the sum of them\n",
    "sum = numbers.sum()\n",
    "print(sum)"
   ]
  },
  {
   "cell_type": "code",
   "execution_count": 108,
   "metadata": {
    "id": "lWtbDBMRB23f",
    "ExecuteTime": {
     "end_time": "2023-06-21T09:58:39.834252700Z",
     "start_time": "2023-06-21T09:58:39.776358900Z"
    }
   },
   "outputs": [
    {
     "name": "stdout",
     "output_type": "stream",
     "text": [
      "Index(['Type of house', 'Colour', 'Area (sqft)', 'Number of doors', 'Price'], dtype='object')\n"
     ]
    }
   ],
   "source": [
    "# List out all the column names of the house sales DataFrame\n",
    "print(df.columns)"
   ]
  },
  {
   "cell_type": "code",
   "execution_count": 109,
   "metadata": {
    "id": "NzX0tBh6B23f",
    "ExecuteTime": {
     "end_time": "2023-06-21T09:58:39.841063100Z",
     "start_time": "2023-06-21T09:58:39.832063Z"
    }
   },
   "outputs": [
    {
     "name": "stdout",
     "output_type": "stream",
     "text": [
      "10\n"
     ]
    }
   ],
   "source": [
    "# Find the length of the house sales DataFrame\n",
    "length = len(df)\n",
    "print(length)\n"
   ]
  },
  {
   "cell_type": "code",
   "execution_count": 110,
   "metadata": {
    "id": "sYnvurrFB23f",
    "ExecuteTime": {
     "end_time": "2023-06-21T09:58:40.008253400Z",
     "start_time": "2023-06-21T09:58:39.840064Z"
    }
   },
   "outputs": [
    {
     "name": "stdout",
     "output_type": "stream",
     "text": [
      "  Type of house Colour  Area (sqft)  Number of doors       Price\n",
      "0     apartment  White         1100                1   $4,000.00\n",
      "1        duplex    Red          502                2   $5,000.00\n",
      "2     apartment   Blue         1225                2   $7,000.00\n",
      "3      bungalow  Black         1500                4  $22,000.00\n",
      "4     farmhouse  White         2020                3   $3,500.00\n"
     ]
    }
   ],
   "source": [
    "# Show the first 5 rows of the house sales DataFrame\n",
    "print(df.head())\n"
   ]
  },
  {
   "cell_type": "code",
   "execution_count": 111,
   "metadata": {
    "id": "t70bI1bNB23f",
    "ExecuteTime": {
     "end_time": "2023-06-21T09:58:40.016049800Z",
     "start_time": "2023-06-21T09:58:39.853062700Z"
    }
   },
   "outputs": [
    {
     "name": "stdout",
     "output_type": "stream",
     "text": [
      "  Type of house Colour  Area (sqft)  Number of doors       Price\n",
      "0     apartment  White         1100                1   $4,000.00\n",
      "1        duplex    Red          502                2   $5,000.00\n",
      "2     apartment   Blue         1225                2   $7,000.00\n",
      "3      bungalow  Black         1500                4  $22,000.00\n",
      "4     farmhouse  White         2020                3   $3,500.00\n",
      "5     apartment  Green         1115                1   $4,500.00\n",
      "6        duplex   Blue          550                2   $7,500.00\n"
     ]
    }
   ],
   "source": [
    "# Show the first 7 rows of the house sales DataFrame\n",
    "print(df.head(7))\n"
   ]
  },
  {
   "cell_type": "code",
   "execution_count": 112,
   "metadata": {
    "id": "DlHtK02qB23g",
    "ExecuteTime": {
     "end_time": "2023-06-21T09:58:40.016049800Z",
     "start_time": "2023-06-21T09:58:39.872489900Z"
    }
   },
   "outputs": [
    {
     "name": "stdout",
     "output_type": "stream",
     "text": [
      "  Type of house Colour  Area (sqft)  Number of doors      Price\n",
      "5     apartment  Green         1115                1  $4,500.00\n",
      "6        duplex   Blue          550                2  $7,500.00\n",
      "7        duplex   Blue          530                2  $7,000.00\n",
      "8     apartment  White         1200                1  $6,250.00\n",
      "9     farmhouse  White         2504                4  $9,700.00\n"
     ]
    }
   ],
   "source": [
    "# Show the bottom 5 rows of the house sales DataFrame\n",
    "print(df.tail())"
   ]
  },
  {
   "cell_type": "code",
   "execution_count": 113,
   "metadata": {
    "id": "yk128F9VB23g",
    "ExecuteTime": {
     "end_time": "2023-06-21T09:58:40.016049800Z",
     "start_time": "2023-06-21T09:58:39.885786Z"
    }
   },
   "outputs": [
    {
     "name": "stdout",
     "output_type": "stream",
     "text": [
      "Type of house        bungalow\n",
      "Colour                  Black\n",
      "Area (sqft)              1500\n",
      "Number of doors             4\n",
      "Price              $22,000.00\n",
      "Name: 3, dtype: object\n"
     ]
    }
   ],
   "source": [
    "# Use .loc to select the row at index 3 of the house sales DataFrame\n",
    "print(df.loc[3])\n"
   ]
  },
  {
   "cell_type": "code",
   "execution_count": 114,
   "metadata": {
    "id": "cC_Vtx4CB23g",
    "ExecuteTime": {
     "end_time": "2023-06-21T09:58:40.017044900Z",
     "start_time": "2023-06-21T09:58:39.900812400Z"
    }
   },
   "outputs": [
    {
     "name": "stdout",
     "output_type": "stream",
     "text": [
      "Type of house        bungalow\n",
      "Colour                  Black\n",
      "Area (sqft)              1500\n",
      "Number of doors             4\n",
      "Price              $22,000.00\n",
      "Name: 3, dtype: object\n"
     ]
    }
   ],
   "source": [
    "# Use .iloc to select the row at position 3 of the house sales DataFrame\n",
    "print(df.iloc[3])\n"
   ]
  },
  {
   "cell_type": "markdown",
   "metadata": {
    "id": "zUdlyQIHB23g"
   },
   "source": [
    "Notice how they're the same? Why do you think this is?\n",
    "\n",
    "Check the pandas documentation for [.loc](https://pandas.pydata.org/pandas-docs/stable/reference/api/pandas.DataFrame.loc.html) and [.iloc](https://pandas.pydata.org/pandas-docs/stable/reference/api/pandas.DataFrame.iloc.html). Think about a different situation each could be used for and try them out."
   ]
  },
  {
   "cell_type": "code",
   "execution_count": 115,
   "metadata": {
    "id": "CzjvXm-oB23g",
    "ExecuteTime": {
     "end_time": "2023-06-21T09:58:40.017044900Z",
     "start_time": "2023-06-21T09:58:39.918330100Z"
    }
   },
   "outputs": [
    {
     "name": "stdout",
     "output_type": "stream",
     "text": [
      "0    1100\n",
      "1     502\n",
      "2    1225\n",
      "3    1500\n",
      "4    2020\n",
      "5    1115\n",
      "6     550\n",
      "7     530\n",
      "8    1200\n",
      "9    2504\n",
      "Name: Area (sqft), dtype: int64\n"
     ]
    }
   ],
   "source": [
    "# Select the \"Area (sqft)\" column from the house sales DataFrame\n",
    "area_column = df['Area (sqft)']\n",
    "print(area_column)"
   ]
  },
  {
   "cell_type": "code",
   "execution_count": 116,
   "metadata": {
    "id": "X66DjuaeB23g",
    "ExecuteTime": {
     "end_time": "2023-06-21T09:58:40.018045500Z",
     "start_time": "2023-06-21T09:58:39.933735700Z"
    }
   },
   "outputs": [
    {
     "name": "stdout",
     "output_type": "stream",
     "text": [
      "1224.6\n"
     ]
    }
   ],
   "source": [
    "# Find the mean of the \"Area (sqft)\" column in the house sales DataFrame\n",
    "mean_area = df['Area (sqft)'].mean()\n",
    "print(mean_area)"
   ]
  },
  {
   "cell_type": "code",
   "execution_count": 117,
   "metadata": {
    "id": "GZV7fkgjB23g",
    "ExecuteTime": {
     "end_time": "2023-06-21T09:58:40.018045500Z",
     "start_time": "2023-06-21T09:58:39.950734Z"
    }
   },
   "outputs": [
    {
     "name": "stdout",
     "output_type": "stream",
     "text": [
      "  Type of house Colour  Area (sqft)  Number of doors       Price\n",
      "0     apartment  White         1100                1   $4,000.00\n",
      "2     apartment   Blue         1225                2   $7,000.00\n",
      "3      bungalow  Black         1500                4  $22,000.00\n",
      "4     farmhouse  White         2020                3   $3,500.00\n",
      "5     apartment  Green         1115                1   $4,500.00\n",
      "8     apartment  White         1200                1   $6,250.00\n",
      "9     farmhouse  White         2504                4   $9,700.00\n"
     ]
    }
   ],
   "source": [
    "# Select the rows with over 1000 sqft\n",
    "filtered_df = df[df['Area (sqft)'] > 1000]\n",
    "print(filtered_df)\n"
   ]
  },
  {
   "cell_type": "code",
   "execution_count": 118,
   "metadata": {
    "id": "PKkPPwHEB23g",
    "ExecuteTime": {
     "end_time": "2023-06-21T09:58:40.019044800Z",
     "start_time": "2023-06-21T09:58:39.964729900Z"
    }
   },
   "outputs": [
    {
     "name": "stdout",
     "output_type": "stream",
     "text": [
      "Number of doors  1  2  3  4\n",
      "Type of house              \n",
      "apartment        3  1  0  0\n",
      "bungalow         0  0  0  1\n",
      "duplex           0  3  0  0\n",
      "farmhouse        0  0  1  1\n"
     ]
    }
   ],
   "source": [
    "# Create a crosstab of the type of house and number of doors\n",
    "crosstab_df = pd.crosstab(df['Type of house'], df['Number of doors'])\n",
    "print(crosstab_df)"
   ]
  },
  {
   "cell_type": "code",
   "execution_count": 119,
   "metadata": {
    "id": "PfhYA6q1B23h",
    "ExecuteTime": {
     "end_time": "2023-06-21T09:58:40.019044800Z",
     "start_time": "2023-06-21T09:58:39.980661700Z"
    }
   },
   "outputs": [
    {
     "name": "stdout",
     "output_type": "stream",
     "text": [
      "               Area (sqft)  Number of doors\n",
      "Type of house                              \n",
      "apartment      1160.000000             1.25\n",
      "bungalow       1500.000000             4.00\n",
      "duplex          527.333333             2.00\n",
      "farmhouse      2262.000000             3.50\n"
     ]
    }
   ],
   "source": [
    "# Group columns of the house sales DataFrame by the type of house column and find the average\n",
    "grouped_df = df.groupby('Type of house').mean()\n",
    "print(grouped_df)"
   ]
  },
  {
   "cell_type": "code",
   "execution_count": 120,
   "metadata": {
    "id": "oPkm39n1B23h",
    "ExecuteTime": {
     "end_time": "2023-06-21T09:58:40.166179100Z",
     "start_time": "2023-06-21T09:58:39.997250800Z"
    }
   },
   "outputs": [
    {
     "data": {
      "text/plain": "<Figure size 640x480 with 1 Axes>",
      "image/png": "[encoded data removed]"
     },
     "metadata": {},
     "output_type": "display_data"
    }
   ],
   "source": [
    "# Import Matplotlib and create a plot of the area column\n",
    "# Don't forget to use %matplotlib inline\n",
    "import matplotlib.pyplot as plt\n",
    "%matplotlib inline\n",
    "\n",
    "plt.plot(df['Area (sqft)'])\n",
    "plt.show()\n"
   ]
  },
  {
   "cell_type": "code",
   "execution_count": 121,
   "metadata": {
    "id": "qfdRtEE9B23h",
    "ExecuteTime": {
     "end_time": "2023-06-21T09:58:40.168180600Z",
     "start_time": "2023-06-21T09:58:40.074041600Z"
    }
   },
   "outputs": [
    {
     "data": {
      "text/plain": "<Figure size 640x480 with 1 Axes>",
      "image/png": "[encoded data removed]"
     },
     "metadata": {},
     "output_type": "display_data"
    }
   ],
   "source": [
    "# Create a histogram of the area column using hist()\n",
    "df['Area (sqft)'].hist()\n",
    "plt.show()\n"
   ]
  },
  {
   "cell_type": "code",
   "execution_count": 122,
   "metadata": {
    "id": "RMnE6VRPB23h",
    "ExecuteTime": {
     "end_time": "2023-06-21T09:58:40.251782200Z",
     "start_time": "2023-06-21T09:58:40.150661800Z"
    }
   },
   "outputs": [
    {
     "data": {
      "text/plain": "<Figure size 640x480 with 1 Axes>",
      "image/png": "[encoded data removed]"
     },
     "metadata": {},
     "output_type": "display_data"
    }
   ],
   "source": [
    "# Try to plot the Price column using plot()\n",
    "plt.plot(df['Price'])\n",
    "plt.show()"
   ]
  },
  {
   "cell_type": "markdown",
   "metadata": {
    "id": "Kf8ZZTUMB23h"
   },
   "source": [
    "Why didn't it work? Can you think of a solution?\n",
    "\n",
    "You might want to search for \"how to convert a pandas string column to numbers\".\n",
    "\n",
    "And if you're still stuck, check out this [Stack Overflow question and answer on turning a price column into integers](https://stackoverflow.com/questions/44469313/price-column-object-to-int-in-pandas).\n",
    "\n",
    "See how you can provide the example code there to the problem here."
   ]
  },
  {
   "cell_type": "code",
   "execution_count": 123,
   "metadata": {
    "id": "QYwMGsFCB23h",
    "ExecuteTime": {
     "end_time": "2023-06-21T09:58:40.251782200Z",
     "start_time": "2023-06-21T09:58:40.227806Z"
    }
   },
   "outputs": [],
   "source": [
    "# Remove the punctuation from price column\n",
    "df['Price'] = df['Price'].str.replace('[^\\w\\s]', '')\n"
   ]
  },
  {
   "cell_type": "code",
   "execution_count": 124,
   "metadata": {
    "id": "KrAT0LCSB23i",
    "ExecuteTime": {
     "end_time": "2023-06-21T09:58:40.270901400Z",
     "start_time": "2023-06-21T09:58:40.243780600Z"
    }
   },
   "outputs": [
    {
     "name": "stdout",
     "output_type": "stream",
     "text": [
      "0     400000\n",
      "1     500000\n",
      "2     700000\n",
      "3    2200000\n",
      "4     350000\n",
      "5     450000\n",
      "6     750000\n",
      "7     700000\n",
      "8     625000\n",
      "9     970000\n",
      "Name: Price, dtype: object\n"
     ]
    }
   ],
   "source": [
    "# Check the changes to the price column\n",
    "print(df['Price'])"
   ]
  },
  {
   "cell_type": "code",
   "execution_count": 125,
   "metadata": {
    "id": "38_ImTBsB23i",
    "ExecuteTime": {
     "end_time": "2023-06-21T09:58:40.286236900Z",
     "start_time": "2023-06-21T09:58:40.270901400Z"
    }
   },
   "outputs": [],
   "source": [
    "# Remove the two extra zeros at the end of the price column\n",
    "df['Price'] = df['Price'].str.rstrip('00')"
   ]
  },
  {
   "cell_type": "code",
   "execution_count": 126,
   "metadata": {
    "id": "CDtuvJmPB23i",
    "ExecuteTime": {
     "end_time": "2023-06-21T09:58:40.347216Z",
     "start_time": "2023-06-21T09:58:40.286236900Z"
    }
   },
   "outputs": [
    {
     "name": "stdout",
     "output_type": "stream",
     "text": [
      "0      4\n",
      "1      5\n",
      "2      7\n",
      "3     22\n",
      "4     35\n",
      "5     45\n",
      "6     75\n",
      "7      7\n",
      "8    625\n",
      "9     97\n",
      "Name: Price, dtype: object\n"
     ]
    }
   ],
   "source": [
    "# Check the changes to the Price column\n",
    "print(df['Price'])\n"
   ]
  },
  {
   "cell_type": "code",
   "execution_count": 127,
   "metadata": {
    "id": "cnCwYvOBB23i",
    "ExecuteTime": {
     "end_time": "2023-06-21T09:58:40.347216Z",
     "start_time": "2023-06-21T09:58:40.290757500Z"
    }
   },
   "outputs": [],
   "source": [
    "# Change the datatype of the Price column to integers\n",
    "df['Price'] = df['Price'].astype(int)"
   ]
  },
  {
   "cell_type": "code",
   "execution_count": 128,
   "metadata": {
    "id": "agt7KAaDB23i",
    "ExecuteTime": {
     "end_time": "2023-06-21T09:58:40.347216Z",
     "start_time": "2023-06-21T09:58:40.305098700Z"
    }
   },
   "outputs": [],
   "source": [
    "# Lower the strings of the type of house column\n",
    "df['Type of house'] = df['Type of house'].str.lower()\n"
   ]
  },
  {
   "cell_type": "markdown",
   "metadata": {
    "id": "SwC422NZB23i"
   },
   "source": [
    "If you check the house sales DataFrame, you'll notice the type of house column hasn't been lowered.\n",
    "\n",
    "How could you make these changes permanent?\n",
    "\n",
    "Try it out."
   ]
  },
  {
   "cell_type": "code",
   "execution_count": 129,
   "metadata": {
    "id": "f_9dCFKmB23s",
    "ExecuteTime": {
     "end_time": "2023-06-21T09:58:40.348186300Z",
     "start_time": "2023-06-21T09:58:40.321515700Z"
    }
   },
   "outputs": [],
   "source": [
    "# Make lowering the case of the type of house column permanent\n",
    "df['Type of house'] = df['Type of house'].str.lower()"
   ]
  },
  {
   "cell_type": "code",
   "execution_count": 130,
   "metadata": {
    "id": "30xkQfKBB23s",
    "ExecuteTime": {
     "end_time": "2023-06-21T09:58:40.356958Z",
     "start_time": "2023-06-21T09:58:40.335168Z"
    }
   },
   "outputs": [
    {
     "name": "stdout",
     "output_type": "stream",
     "text": [
      "  Type of house Colour  Area (sqft)  Number of doors  Price\n",
      "0     apartment  White         1100                1      4\n",
      "1        duplex    Red          502                2      5\n",
      "2     apartment   Blue         1225                2      7\n",
      "3      bungalow  Black         1500                4     22\n",
      "4     farmhouse  White         2020                3     35\n",
      "5     apartment  Green         1115                1     45\n",
      "6        duplex   Blue          550                2     75\n",
      "7        duplex   Blue          530                2      7\n",
      "8     apartment  White         1200                1    625\n",
      "9     farmhouse  White         2504                4     97\n"
     ]
    }
   ],
   "source": [
    "# Check the house sales DataFrame\n",
    "print(df)"
   ]
  },
  {
   "cell_type": "markdown",
   "metadata": {
    "id": "MOUyF0y0B23s"
   },
   "source": [
    "Notice how the type of house column stays lowered after reassigning.\n",
    "\n",
    "Now let's deal with missing data."
   ]
  },
  {
   "cell_type": "code",
   "execution_count": 131,
   "metadata": {
    "id": "5UF4mKrIB23t",
    "ExecuteTime": {
     "end_time": "2023-06-21T09:58:40.365278Z",
     "start_time": "2023-06-21T09:58:40.352194900Z"
    }
   },
   "outputs": [
    {
     "name": "stdout",
     "output_type": "stream",
     "text": [
      "   Type of house Colour  Area (sqft)  Number of doors       Price\n",
      "0      apartment  White       1100.0              1.0   $4,000.00\n",
      "1         duplex    Red        502.0              2.0   $5,000.00\n",
      "2      apartment   Blue          NaN              2.0   $7,000.00\n",
      "3       bungalow  Black       1500.0              4.0  $22,000.00\n",
      "4      farmhouse  White       2020.0              3.0   $3,500.00\n",
      "5      apartment  Green          NaN              1.0   $4,500.00\n",
      "6         duplex    NaN          NaN              2.0   $7,500.00\n",
      "7         duplex   Blue          NaN              2.0   $7,000.00\n",
      "8      apartment  White          NaN              1.0         NaN\n",
      "9      farmhouse  White       1200.0              NaN         NaN\n",
      "10           NaN  White       2504.0              4.0   $7,500.00\n"
     ]
    }
   ],
   "source": [
    "# Import the car sales DataFrame with missing data (\"../data/house-missing-data.csv\")\n",
    "missing_df = pd.read_csv(\"C:\\\\Users\\\\nihaa\\\\Documents\\\\GitHub\\\\DS\\\\workshop-1\\\\house-missing-data.csv\")\n",
    "\n",
    "# Check out the new DataFrame\n",
    "print(missing_df)"
   ]
  },
  {
   "cell_type": "markdown",
   "metadata": {
    "id": "gSIRwxZ7B23t"
   },
   "source": [
    "Notice the missing values are represented as `NaN` in pandas DataFrames.\n",
    "\n",
    "Let's try fill them."
   ]
  },
  {
   "cell_type": "code",
   "execution_count": 132,
   "metadata": {
    "id": "E2tNknklB23t",
    "ExecuteTime": {
     "end_time": "2023-06-21T09:58:40.425601500Z",
     "start_time": "2023-06-21T09:58:40.369273800Z"
    }
   },
   "outputs": [],
   "source": [
    "# Fill the area column missing values with the mean of the column inplace\n",
    "missing_df['Area (sqft)'].fillna(missing_df['Area (sqft)'].mean(), inplace=True)"
   ]
  },
  {
   "cell_type": "code",
   "execution_count": 133,
   "metadata": {
    "id": "B4PJPRryB23t",
    "ExecuteTime": {
     "end_time": "2023-06-21T09:58:40.426566800Z",
     "start_time": "2023-06-21T09:58:40.381882900Z"
    }
   },
   "outputs": [
    {
     "name": "stdout",
     "output_type": "stream",
     "text": [
      "   Type of house Colour  Area (sqft)  Number of doors       Price\n",
      "0      apartment  White       1100.0              1.0   $4,000.00\n",
      "1         duplex    Red        502.0              2.0   $5,000.00\n",
      "2      apartment   Blue       1471.0              2.0   $7,000.00\n",
      "3       bungalow  Black       1500.0              4.0  $22,000.00\n",
      "4      farmhouse  White       2020.0              3.0   $3,500.00\n",
      "5      apartment  Green       1471.0              1.0   $4,500.00\n",
      "6         duplex    NaN       1471.0              2.0   $7,500.00\n",
      "7         duplex   Blue       1471.0              2.0   $7,000.00\n",
      "8      apartment  White       1471.0              1.0         NaN\n",
      "9      farmhouse  White       1200.0              NaN         NaN\n",
      "10           NaN  White       2504.0              4.0   $7,500.00\n"
     ]
    }
   ],
   "source": [
    "# View the house sales missing DataFrame and verify the changes\n",
    "print(missing_df)"
   ]
  },
  {
   "cell_type": "code",
   "execution_count": 134,
   "metadata": {
    "id": "sLpDKIMDB23t",
    "ExecuteTime": {
     "end_time": "2023-06-21T09:58:40.426566800Z",
     "start_time": "2023-06-21T09:58:40.397881500Z"
    }
   },
   "outputs": [],
   "source": [
    "# Remove the rest of the missing data inplace\n",
    "missing_df.dropna(inplace=True)\n"
   ]
  },
  {
   "cell_type": "code",
   "execution_count": 135,
   "metadata": {
    "id": "pr6tp8vJB23t",
    "ExecuteTime": {
     "end_time": "2023-06-21T09:58:40.436683500Z",
     "start_time": "2023-06-21T09:58:40.413375Z"
    }
   },
   "outputs": [
    {
     "name": "stdout",
     "output_type": "stream",
     "text": [
      "  Type of house Colour  Area (sqft)  Number of doors       Price\n",
      "0     apartment  White       1100.0              1.0   $4,000.00\n",
      "1        duplex    Red        502.0              2.0   $5,000.00\n",
      "2     apartment   Blue       1471.0              2.0   $7,000.00\n",
      "3      bungalow  Black       1500.0              4.0  $22,000.00\n",
      "4     farmhouse  White       2020.0              3.0   $3,500.00\n",
      "5     apartment  Green       1471.0              1.0   $4,500.00\n",
      "7        duplex   Blue       1471.0              2.0   $7,000.00\n"
     ]
    }
   ],
   "source": [
    "# Verify the missing values are removed by viewing the DataFrame\n",
    "print(missing_df)"
   ]
  },
  {
   "cell_type": "markdown",
   "metadata": {
    "id": "ChqVzScIB23u"
   },
   "source": [
    "We'll now start to add columns to our DataFrame."
   ]
  },
  {
   "cell_type": "code",
   "execution_count": 136,
   "metadata": {
    "id": "ejGgNg7ZB23u",
    "ExecuteTime": {
     "end_time": "2023-06-21T09:58:40.443570800Z",
     "start_time": "2023-06-21T09:58:40.431570Z"
    }
   },
   "outputs": [],
   "source": [
    "# Create a \"Number of rooms\" column where every row has a value of 3\n",
    "missing_df['Number of rooms'] = 3"
   ]
  },
  {
   "cell_type": "code",
   "execution_count": 137,
   "metadata": {
    "id": "SPwZofutB23u",
    "ExecuteTime": {
     "end_time": "2023-06-21T09:58:40.504985100Z",
     "start_time": "2023-06-21T09:58:40.445574500Z"
    }
   },
   "outputs": [],
   "source": [
    "# Create a column called \"Shops nearby\" with random values between 1 and 4\n",
    "# Remember: If you're doing it from a Python list, the list has to be the same length\n",
    "# as the DataFrame\n",
    "import random\n",
    "missing_df['Shops nearby'] = [random.randint(1, 4) for _ in range(len(missing_df))]"
   ]
  },
  {
   "cell_type": "code",
   "execution_count": 138,
   "metadata": {
    "id": "hcd2oetxB23u",
    "ExecuteTime": {
     "end_time": "2023-06-21T09:58:40.514887400Z",
     "start_time": "2023-06-21T09:58:40.462375400Z"
    }
   },
   "outputs": [],
   "source": [
    "# Remove the last column you added using .drop()\n",
    "missing_df.drop('Shops nearby', axis=1, inplace=True)"
   ]
  },
  {
   "cell_type": "code",
   "execution_count": 139,
   "metadata": {
    "id": "9yqnqkJPB23u",
    "ExecuteTime": {
     "end_time": "2023-06-21T09:58:40.515892400Z",
     "start_time": "2023-06-21T09:58:40.476624300Z"
    }
   },
   "outputs": [],
   "source": [
    "# Shuffle the DataFrame using sample() with the frac parameter set to 1\n",
    "# Save the the shuffled DataFrame to a new variable\n",
    "shuffled_df = missing_df.sample(frac=1)\n"
   ]
  },
  {
   "cell_type": "markdown",
   "metadata": {
    "id": "1x_Cj1U7B23v"
   },
   "source": [
    "Notice how the index numbers get moved around. The [`sample()`](https://pandas.pydata.org/pandas-docs/stable/reference/api/pandas.DataFrame.sample.html) function is a great way to get random samples from your DataFrame. It's also another great way to shuffle the rows by setting `frac=1`."
   ]
  },
  {
   "cell_type": "code",
   "execution_count": 140,
   "metadata": {
    "id": "6Os342-WB23v",
    "ExecuteTime": {
     "end_time": "2023-06-21T09:58:40.515892400Z",
     "start_time": "2023-06-21T09:58:40.504985100Z"
    }
   },
   "outputs": [],
   "source": [
    "# Reset the indexes of the shuffled DataFrame\n",
    "shuffled_df.reset_index(drop=True, inplace=True)"
   ]
  },
  {
   "cell_type": "markdown",
   "metadata": {
    "id": "MH79ZyArB23v"
   },
   "source": [
    "Notice the index numbers have been changed to have order (start from 0)."
   ]
  },
  {
   "cell_type": "code",
   "execution_count": 141,
   "metadata": {
    "id": "MxRZ7Q90B23v",
    "ExecuteTime": {
     "end_time": "2023-06-21T09:58:40.523884900Z",
     "start_time": "2023-06-21T09:58:40.512890100Z"
    }
   },
   "outputs": [
    {
     "name": "stdout",
     "output_type": "stream",
     "text": [
      "  Type of house Colour  Area (sqft)  Number of doors       Price  \\\n",
      "0        duplex    Red    46.637306              2.0   $5,000.00   \n",
      "1        duplex   Blue   136.660313              2.0   $7,000.00   \n",
      "2     apartment  Green   136.660313              1.0   $4,500.00   \n",
      "3      bungalow  Black   139.354500              4.0  $22,000.00   \n",
      "4     apartment  White   102.193300              1.0   $4,000.00   \n",
      "5     farmhouse  White   187.664060              3.0   $3,500.00   \n",
      "6     apartment   Blue   136.660313              2.0   $7,000.00   \n",
      "\n",
      "   Number of rooms  \n",
      "0                3  \n",
      "1                3  \n",
      "2                3  \n",
      "3                3  \n",
      "4                3  \n",
      "5                3  \n",
      "6                3  \n"
     ]
    }
   ],
   "source": [
    "# Change the area values from sqft to sqm(squared metres) using a Lambda function\n",
    "shuffled_df['Area (sqft)'] = shuffled_df['Area (sqft)'].apply(lambda x: x * 0.092903)\n",
    "\n",
    "# Then view the DataFrame\n",
    "print(shuffled_df)\n"
   ]
  },
  {
   "cell_type": "code",
   "execution_count": 142,
   "metadata": {
    "id": "m5y4DQ7MB23w",
    "ExecuteTime": {
     "end_time": "2023-06-21T09:58:40.567634700Z",
     "start_time": "2023-06-21T09:58:40.525398700Z"
    }
   },
   "outputs": [],
   "source": [
    "# Change the title of the Area(sqft) to represent metres\n",
    "shuffled_df.rename(columns={'Area (sqft)': 'Area'}, inplace=True)"
   ]
  }
 ],
 "metadata": {
  "kernelspec": {
   "display_name": "Python 3",
   "language": "python",
   "name": "python3"
  },
  "language_info": {
   "codemirror_mode": {
    "name": "ipython",
    "version": 3
   },
   "file_extension": ".py",
   "mimetype": "text/x-python",
   "name": "python",
   "nbconvert_exporter": "python",
   "pygments_lexer": "ipython3",
   "version": "3.8.3"
  },
  "colab": {
   "provenance": []
  }
 },
 "nbformat": 4,
 "nbformat_minor": 0
}
